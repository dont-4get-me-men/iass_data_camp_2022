{
 "cells": [
  {
   "cell_type": "code",
   "execution_count": 2,
   "metadata": {},
   "outputs": [],
   "source": [
    "import pandas as pd\n",
    "import numpy as np\n",
    "import warnings \n",
    "warnings.filterwarnings(\"ignore\")"
   ]
  },
  {
   "cell_type": "code",
   "execution_count": 3,
   "metadata": {},
   "outputs": [],
   "source": [
    "df = pd.read_csv('TEST TASK (dataset).csv')"
   ]
  },
  {
   "cell_type": "code",
   "execution_count": 3,
   "metadata": {},
   "outputs": [
    {
     "data": {
      "text/plain": [
       "(1467832, 63)"
      ]
     },
     "execution_count": 3,
     "metadata": {},
     "output_type": "execute_result"
    }
   ],
   "source": [
    "df.shape"
   ]
  },
  {
   "cell_type": "code",
   "execution_count": 4,
   "metadata": {},
   "outputs": [
    {
     "data": {
      "text/html": [
       "<div>\n",
       "<style scoped>\n",
       "    .dataframe tbody tr th:only-of-type {\n",
       "        vertical-align: middle;\n",
       "    }\n",
       "\n",
       "    .dataframe tbody tr th {\n",
       "        vertical-align: top;\n",
       "    }\n",
       "\n",
       "    .dataframe thead th {\n",
       "        text-align: right;\n",
       "    }\n",
       "</style>\n",
       "<table border=\"1\" class=\"dataframe\">\n",
       "  <thead>\n",
       "    <tr style=\"text-align: right;\">\n",
       "      <th></th>\n",
       "      <th>total_sessions_day0</th>\n",
       "      <th>total_sessions_day1</th>\n",
       "      <th>total_sessions_day3</th>\n",
       "      <th>total_sessions_day7</th>\n",
       "      <th>chapters_finished_day0</th>\n",
       "      <th>chapters_finished_day1</th>\n",
       "      <th>chapters_finished_day3</th>\n",
       "      <th>chapters_finished_day7</th>\n",
       "      <th>chapters_opened_day0</th>\n",
       "      <th>chapters_opened_day1</th>\n",
       "      <th>...</th>\n",
       "      <th>install_date</th>\n",
       "      <th>country_code</th>\n",
       "      <th>ad_ltv_day0</th>\n",
       "      <th>ad_ltv_day1</th>\n",
       "      <th>ad_ltv_day3</th>\n",
       "      <th>platform</th>\n",
       "      <th>target_sub_ltv_day30</th>\n",
       "      <th>target_iap_ltv_day30</th>\n",
       "      <th>target_ad_ltv_day30</th>\n",
       "      <th>target_full_ltv_day30</th>\n",
       "    </tr>\n",
       "  </thead>\n",
       "  <tbody>\n",
       "    <tr>\n",
       "      <th>0</th>\n",
       "      <td>1.0</td>\n",
       "      <td>1.0</td>\n",
       "      <td>1.0</td>\n",
       "      <td>1.0</td>\n",
       "      <td>0</td>\n",
       "      <td>0</td>\n",
       "      <td>0</td>\n",
       "      <td>0</td>\n",
       "      <td>0</td>\n",
       "      <td>0</td>\n",
       "      <td>...</td>\n",
       "      <td>2021-12-03</td>\n",
       "      <td>COUNTRY_135</td>\n",
       "      <td>0.0</td>\n",
       "      <td>0.0</td>\n",
       "      <td>0.0</td>\n",
       "      <td>ios</td>\n",
       "      <td>0.0</td>\n",
       "      <td>0.0</td>\n",
       "      <td>0.0</td>\n",
       "      <td>0.0</td>\n",
       "    </tr>\n",
       "    <tr>\n",
       "      <th>1</th>\n",
       "      <td>1.0</td>\n",
       "      <td>1.0</td>\n",
       "      <td>1.0</td>\n",
       "      <td>1.0</td>\n",
       "      <td>0</td>\n",
       "      <td>0</td>\n",
       "      <td>0</td>\n",
       "      <td>0</td>\n",
       "      <td>0</td>\n",
       "      <td>0</td>\n",
       "      <td>...</td>\n",
       "      <td>2021-12-03</td>\n",
       "      <td>COUNTRY_141</td>\n",
       "      <td>0.0</td>\n",
       "      <td>0.0</td>\n",
       "      <td>0.0</td>\n",
       "      <td>android</td>\n",
       "      <td>0.0</td>\n",
       "      <td>0.0</td>\n",
       "      <td>0.0</td>\n",
       "      <td>0.0</td>\n",
       "    </tr>\n",
       "    <tr>\n",
       "      <th>2</th>\n",
       "      <td>1.0</td>\n",
       "      <td>2.0</td>\n",
       "      <td>2.0</td>\n",
       "      <td>2.0</td>\n",
       "      <td>0</td>\n",
       "      <td>0</td>\n",
       "      <td>0</td>\n",
       "      <td>0</td>\n",
       "      <td>0</td>\n",
       "      <td>0</td>\n",
       "      <td>...</td>\n",
       "      <td>2021-12-03</td>\n",
       "      <td>COUNTRY_141</td>\n",
       "      <td>0.0</td>\n",
       "      <td>0.0</td>\n",
       "      <td>0.0</td>\n",
       "      <td>android</td>\n",
       "      <td>0.0</td>\n",
       "      <td>0.0</td>\n",
       "      <td>0.0</td>\n",
       "      <td>0.0</td>\n",
       "    </tr>\n",
       "    <tr>\n",
       "      <th>3</th>\n",
       "      <td>1.0</td>\n",
       "      <td>1.0</td>\n",
       "      <td>1.0</td>\n",
       "      <td>1.0</td>\n",
       "      <td>0</td>\n",
       "      <td>0</td>\n",
       "      <td>0</td>\n",
       "      <td>0</td>\n",
       "      <td>0</td>\n",
       "      <td>0</td>\n",
       "      <td>...</td>\n",
       "      <td>2021-12-03</td>\n",
       "      <td>COUNTRY_141</td>\n",
       "      <td>0.0</td>\n",
       "      <td>0.0</td>\n",
       "      <td>0.0</td>\n",
       "      <td>ios</td>\n",
       "      <td>0.0</td>\n",
       "      <td>0.0</td>\n",
       "      <td>0.0</td>\n",
       "      <td>0.0</td>\n",
       "    </tr>\n",
       "    <tr>\n",
       "      <th>4</th>\n",
       "      <td>1.0</td>\n",
       "      <td>1.0</td>\n",
       "      <td>1.0</td>\n",
       "      <td>1.0</td>\n",
       "      <td>0</td>\n",
       "      <td>0</td>\n",
       "      <td>0</td>\n",
       "      <td>0</td>\n",
       "      <td>0</td>\n",
       "      <td>0</td>\n",
       "      <td>...</td>\n",
       "      <td>2021-12-03</td>\n",
       "      <td>COUNTRY_203</td>\n",
       "      <td>0.0</td>\n",
       "      <td>0.0</td>\n",
       "      <td>0.0</td>\n",
       "      <td>android</td>\n",
       "      <td>0.0</td>\n",
       "      <td>0.0</td>\n",
       "      <td>0.0</td>\n",
       "      <td>0.0</td>\n",
       "    </tr>\n",
       "  </tbody>\n",
       "</table>\n",
       "<p>5 rows × 63 columns</p>\n",
       "</div>"
      ],
      "text/plain": [
       "   total_sessions_day0  total_sessions_day1  total_sessions_day3  \\\n",
       "0                  1.0                  1.0                  1.0   \n",
       "1                  1.0                  1.0                  1.0   \n",
       "2                  1.0                  2.0                  2.0   \n",
       "3                  1.0                  1.0                  1.0   \n",
       "4                  1.0                  1.0                  1.0   \n",
       "\n",
       "   total_sessions_day7  chapters_finished_day0  chapters_finished_day1  \\\n",
       "0                  1.0                       0                       0   \n",
       "1                  1.0                       0                       0   \n",
       "2                  2.0                       0                       0   \n",
       "3                  1.0                       0                       0   \n",
       "4                  1.0                       0                       0   \n",
       "\n",
       "   chapters_finished_day3  chapters_finished_day7  chapters_opened_day0  \\\n",
       "0                       0                       0                     0   \n",
       "1                       0                       0                     0   \n",
       "2                       0                       0                     0   \n",
       "3                       0                       0                     0   \n",
       "4                       0                       0                     0   \n",
       "\n",
       "   chapters_opened_day1  ...  install_date  country_code  ad_ltv_day0  \\\n",
       "0                     0  ...    2021-12-03   COUNTRY_135          0.0   \n",
       "1                     0  ...    2021-12-03   COUNTRY_141          0.0   \n",
       "2                     0  ...    2021-12-03   COUNTRY_141          0.0   \n",
       "3                     0  ...    2021-12-03   COUNTRY_141          0.0   \n",
       "4                     0  ...    2021-12-03   COUNTRY_203          0.0   \n",
       "\n",
       "   ad_ltv_day1  ad_ltv_day3  platform  target_sub_ltv_day30  \\\n",
       "0          0.0          0.0       ios                   0.0   \n",
       "1          0.0          0.0   android                   0.0   \n",
       "2          0.0          0.0   android                   0.0   \n",
       "3          0.0          0.0       ios                   0.0   \n",
       "4          0.0          0.0   android                   0.0   \n",
       "\n",
       "   target_iap_ltv_day30  target_ad_ltv_day30  target_full_ltv_day30  \n",
       "0                   0.0                  0.0                    0.0  \n",
       "1                   0.0                  0.0                    0.0  \n",
       "2                   0.0                  0.0                    0.0  \n",
       "3                   0.0                  0.0                    0.0  \n",
       "4                   0.0                  0.0                    0.0  \n",
       "\n",
       "[5 rows x 63 columns]"
      ]
     },
     "execution_count": 4,
     "metadata": {},
     "output_type": "execute_result"
    }
   ],
   "source": [
    "df.head()"
   ]
  },
  {
   "cell_type": "code",
   "execution_count": 6,
   "metadata": {},
   "outputs": [
    {
     "data": {
      "text/plain": [
       "Index(['total_sessions_day0', 'total_sessions_day1', 'total_sessions_day3',\n",
       "       'total_sessions_day7', 'chapters_finished_day0',\n",
       "       'chapters_finished_day1', 'chapters_finished_day3',\n",
       "       'chapters_finished_day7', 'chapters_opened_day0',\n",
       "       'chapters_opened_day1', 'chapters_opened_day3', 'chapters_opened_day7',\n",
       "       'chapters_closed_day0', 'chapters_closed_day1', 'chapters_closed_day3',\n",
       "       'chapters_closed_day7', 'diamonds_received_day0',\n",
       "       'diamonds_received_day1', 'diamonds_received_day3',\n",
       "       'diamonds_received_day7', 'diamonds_spent_day0', 'diamonds_spent_day1',\n",
       "       'diamonds_spent_day3', 'diamonds_spent_day7', 'tickets_spent_day0',\n",
       "       'tickets_spent_day1', 'tickets_spent_day3', 'tickets_spent_day7',\n",
       "       'retained_day1', 'retained_day3', 'retained_day7',\n",
       "       'chapters_finished_session1', 'chapters_finished_session3',\n",
       "       'chapters_finished_session9', 'chapters_opened_session1',\n",
       "       'chapters_opened_session3', 'chapters_opened_session9',\n",
       "       'chapters_closed_session1', 'chapters_closed_session3',\n",
       "       'chapters_closed_session9', 'diamonds_spent_session1',\n",
       "       'diamonds_spent_session3', 'diamonds_spent_session9',\n",
       "       'tickets_spent_session1', 'tickets_spent_session3',\n",
       "       'tickets_spent_session9', 'app_sub_ltv_day0', 'app_sub_ltv_day1',\n",
       "       'app_sub_ltv_day3', 'app_iap_ltv_day0', 'app_iap_ltv_day1',\n",
       "       'app_iap_ltv_day3', 'media_source', 'install_date', 'country_code',\n",
       "       'ad_ltv_day0', 'ad_ltv_day1', 'ad_ltv_day3', 'platform',\n",
       "       'target_sub_ltv_day30', 'target_iap_ltv_day30', 'target_ad_ltv_day30',\n",
       "       'target_full_ltv_day30'],\n",
       "      dtype='object')"
      ]
     },
     "execution_count": 6,
     "metadata": {},
     "output_type": "execute_result"
    }
   ],
   "source": [
    "df.columns"
   ]
  },
  {
   "cell_type": "markdown",
   "metadata": {},
   "source": [
    "## see Grouped data"
   ]
  },
  {
   "cell_type": "code",
   "execution_count": 12,
   "metadata": {},
   "outputs": [
    {
     "name": "stdout",
     "output_type": "stream",
     "text": [
      "<class 'pandas.core.frame.DataFrame'>\n",
      "RangeIndex: 1467832 entries, 0 to 1467831\n",
      "Data columns (total 63 columns):\n",
      " #   Column                      Non-Null Count    Dtype  \n",
      "---  ------                      --------------    -----  \n",
      " 0   total_sessions_day0         1466467 non-null  float64\n",
      " 1   total_sessions_day1         1466465 non-null  float64\n",
      " 2   total_sessions_day3         1466464 non-null  float64\n",
      " 3   total_sessions_day7         1466458 non-null  float64\n",
      " 4   chapters_finished_day0      1467832 non-null  int64  \n",
      " 5   chapters_finished_day1      1467832 non-null  int64  \n",
      " 6   chapters_finished_day3      1467832 non-null  int64  \n",
      " 7   chapters_finished_day7      1467832 non-null  int64  \n",
      " 8   chapters_opened_day0        1467832 non-null  int64  \n",
      " 9   chapters_opened_day1        1467832 non-null  int64  \n",
      " 10  chapters_opened_day3        1467832 non-null  int64  \n",
      " 11  chapters_opened_day7        1467832 non-null  int64  \n",
      " 12  chapters_closed_day0        1467832 non-null  int64  \n",
      " 13  chapters_closed_day1        1467832 non-null  int64  \n",
      " 14  chapters_closed_day3        1467832 non-null  int64  \n",
      " 15  chapters_closed_day7        1467832 non-null  int64  \n",
      " 16  diamonds_received_day0      1467832 non-null  int64  \n",
      " 17  diamonds_received_day1      1467832 non-null  int64  \n",
      " 18  diamonds_received_day3      1467832 non-null  int64  \n",
      " 19  diamonds_received_day7      1467832 non-null  int64  \n",
      " 20  diamonds_spent_day0         1467832 non-null  int64  \n",
      " 21  diamonds_spent_day1         1467832 non-null  int64  \n",
      " 22  diamonds_spent_day3         1467832 non-null  int64  \n",
      " 23  diamonds_spent_day7         1467832 non-null  int64  \n",
      " 24  tickets_spent_day0          1467832 non-null  int64  \n",
      " 25  tickets_spent_day1          1467832 non-null  int64  \n",
      " 26  tickets_spent_day3          1467832 non-null  int64  \n",
      " 27  tickets_spent_day7          1467832 non-null  int64  \n",
      " 28  retained_day1               1467832 non-null  int64  \n",
      " 29  retained_day3               1467832 non-null  int64  \n",
      " 30  retained_day7               1467832 non-null  int64  \n",
      " 31  chapters_finished_session1  1467832 non-null  int64  \n",
      " 32  chapters_finished_session3  1467832 non-null  int64  \n",
      " 33  chapters_finished_session9  1467832 non-null  int64  \n",
      " 34  chapters_opened_session1    1467832 non-null  int64  \n",
      " 35  chapters_opened_session3    1467832 non-null  int64  \n",
      " 36  chapters_opened_session9    1467832 non-null  int64  \n",
      " 37  chapters_closed_session1    1467832 non-null  int64  \n",
      " 38  chapters_closed_session3    1467832 non-null  int64  \n",
      " 39  chapters_closed_session9    1467832 non-null  int64  \n",
      " 40  diamonds_spent_session1     1467832 non-null  int64  \n",
      " 41  diamonds_spent_session3     1467832 non-null  int64  \n",
      " 42  diamonds_spent_session9     1467832 non-null  int64  \n",
      " 43  tickets_spent_session1      1467832 non-null  int64  \n",
      " 44  tickets_spent_session3      1467832 non-null  int64  \n",
      " 45  tickets_spent_session9      1467832 non-null  int64  \n",
      " 46  app_sub_ltv_day0            1467832 non-null  float64\n",
      " 47  app_sub_ltv_day1            1467832 non-null  float64\n",
      " 48  app_sub_ltv_day3            1467832 non-null  float64\n",
      " 49  app_iap_ltv_day0            1467832 non-null  float64\n",
      " 50  app_iap_ltv_day1            1467832 non-null  float64\n",
      " 51  app_iap_ltv_day3            1467832 non-null  float64\n",
      " 52  media_source                1467832 non-null  object \n",
      " 53  install_date                1467832 non-null  object \n",
      " 54  country_code                1467832 non-null  object \n",
      " 55  ad_ltv_day0                 1467832 non-null  float64\n",
      " 56  ad_ltv_day1                 1467832 non-null  float64\n",
      " 57  ad_ltv_day3                 1467832 non-null  float64\n",
      " 58  platform                    1467832 non-null  object \n",
      " 59  target_sub_ltv_day30        1467832 non-null  float64\n",
      " 60  target_iap_ltv_day30        1467832 non-null  float64\n",
      " 61  target_ad_ltv_day30         1467832 non-null  float64\n",
      " 62  target_full_ltv_day30       1467832 non-null  float64\n",
      "dtypes: float64(17), int64(42), object(4)\n",
      "memory usage: 705.5+ MB\n"
     ]
    }
   ],
   "source": [
    "df.info()"
   ]
  },
  {
   "cell_type": "code",
   "execution_count": 13,
   "metadata": {},
   "outputs": [
    {
     "data": {
      "text/plain": [
       "android    887426\n",
       "ios        580406\n",
       "Name: platform, dtype: int64"
      ]
     },
     "execution_count": 13,
     "metadata": {},
     "output_type": "execute_result"
    }
   ],
   "source": [
    "df.platform.value_counts()"
   ]
  },
  {
   "cell_type": "code",
   "execution_count": 14,
   "metadata": {},
   "outputs": [
    {
     "data": {
      "text/plain": [
       "COUNTRY_141    387761\n",
       "COUNTRY_13     260238\n",
       "COUNTRY_155    152936\n",
       "COUNTRY_108    114661\n",
       "COUNTRY_35     111007\n",
       "                ...  \n",
       "COUNTRY_73          1\n",
       "COUNTRY_10          1\n",
       "COUNTRY_151         1\n",
       "COUNTRY_175         1\n",
       "COUNTRY_37          1\n",
       "Name: country_code, Length: 224, dtype: int64"
      ]
     },
     "execution_count": 14,
     "metadata": {},
     "output_type": "execute_result"
    }
   ],
   "source": [
    "df.country_code.value_counts()"
   ]
  },
  {
   "cell_type": "code",
   "execution_count": 4,
   "metadata": {},
   "outputs": [
    {
     "name": "stdout",
     "output_type": "stream",
     "text": [
      "0.09927940742984764\n",
      "0.4978292107019058\n"
     ]
    }
   ],
   "source": [
    "print(df[df['platform']=='android']['target_full_ltv_day30'].mean())\n",
    "print(df[df['platform']=='ios']['target_full_ltv_day30'].mean())"
   ]
  },
  {
   "cell_type": "code",
   "execution_count": 16,
   "metadata": {},
   "outputs": [
    {
     "name": "stdout",
     "output_type": "stream",
     "text": [
      "0.4978292107019058\n"
     ]
    }
   ],
   "source": []
  },
  {
   "cell_type": "code",
   "execution_count": 5,
   "metadata": {},
   "outputs": [
    {
     "data": {
      "text/html": [
       "<div>\n",
       "<style scoped>\n",
       "    .dataframe tbody tr th:only-of-type {\n",
       "        vertical-align: middle;\n",
       "    }\n",
       "\n",
       "    .dataframe tbody tr th {\n",
       "        vertical-align: top;\n",
       "    }\n",
       "\n",
       "    .dataframe thead tr th {\n",
       "        text-align: left;\n",
       "    }\n",
       "\n",
       "    .dataframe thead tr:last-of-type th {\n",
       "        text-align: right;\n",
       "    }\n",
       "</style>\n",
       "<table border=\"1\" class=\"dataframe\">\n",
       "  <thead>\n",
       "    <tr>\n",
       "      <th></th>\n",
       "      <th colspan=\"2\" halign=\"left\">target_full_ltv_day30</th>\n",
       "      <th colspan=\"2\" halign=\"left\">target_sub_ltv_day30</th>\n",
       "      <th colspan=\"2\" halign=\"left\">target_iap_ltv_day30</th>\n",
       "      <th colspan=\"3\" halign=\"left\">target_ad_ltv_day30</th>\n",
       "    </tr>\n",
       "    <tr>\n",
       "      <th></th>\n",
       "      <th>mean</th>\n",
       "      <th>sum</th>\n",
       "      <th>mean</th>\n",
       "      <th>sum</th>\n",
       "      <th>mean</th>\n",
       "      <th>sum</th>\n",
       "      <th>mean</th>\n",
       "      <th>sum</th>\n",
       "      <th>count</th>\n",
       "    </tr>\n",
       "    <tr>\n",
       "      <th>platform</th>\n",
       "      <th></th>\n",
       "      <th></th>\n",
       "      <th></th>\n",
       "      <th></th>\n",
       "      <th></th>\n",
       "      <th></th>\n",
       "      <th></th>\n",
       "      <th></th>\n",
       "      <th></th>\n",
       "    </tr>\n",
       "  </thead>\n",
       "  <tbody>\n",
       "    <tr>\n",
       "      <th>android</th>\n",
       "      <td>0.099279</td>\n",
       "      <td>88103.127418</td>\n",
       "      <td>0.007925</td>\n",
       "      <td>7033.283064</td>\n",
       "      <td>0.082041</td>\n",
       "      <td>72805.257615</td>\n",
       "      <td>0.009313</td>\n",
       "      <td>8264.586739</td>\n",
       "      <td>887426</td>\n",
       "    </tr>\n",
       "    <tr>\n",
       "      <th>ios</th>\n",
       "      <td>0.497829</td>\n",
       "      <td>288943.060867</td>\n",
       "      <td>0.043596</td>\n",
       "      <td>25303.603837</td>\n",
       "      <td>0.415577</td>\n",
       "      <td>241203.277020</td>\n",
       "      <td>0.038656</td>\n",
       "      <td>22436.180010</td>\n",
       "      <td>580406</td>\n",
       "    </tr>\n",
       "  </tbody>\n",
       "</table>\n",
       "</div>"
      ],
      "text/plain": [
       "         target_full_ltv_day30                target_sub_ltv_day30  \\\n",
       "                          mean            sum                 mean   \n",
       "platform                                                             \n",
       "android               0.099279   88103.127418             0.007925   \n",
       "ios                   0.497829  288943.060867             0.043596   \n",
       "\n",
       "                       target_iap_ltv_day30                 \\\n",
       "                   sum                 mean            sum   \n",
       "platform                                                     \n",
       "android    7033.283064             0.082041   72805.257615   \n",
       "ios       25303.603837             0.415577  241203.277020   \n",
       "\n",
       "         target_ad_ltv_day30                        \n",
       "                        mean           sum   count  \n",
       "platform                                            \n",
       "android             0.009313   8264.586739  887426  \n",
       "ios                 0.038656  22436.180010  580406  "
      ]
     },
     "execution_count": 5,
     "metadata": {},
     "output_type": "execute_result"
    }
   ],
   "source": [
    "df.groupby(by = 'platform')\\\n",
    ".agg({'target_full_ltv_day30':['mean','sum'],\n",
    "     'target_sub_ltv_day30':['mean','sum'],\n",
    "     'target_iap_ltv_day30':['mean','sum'],\n",
    "     'target_ad_ltv_day30':['mean','sum','count'],})"
   ]
  },
  {
   "cell_type": "code",
   "execution_count": 23,
   "metadata": {},
   "outputs": [
    {
     "name": "stdout",
     "output_type": "stream",
     "text": [
      "0.08757297635414475\n",
      "0.0798301180686925\n"
     ]
    }
   ],
   "source": [
    "print(25303.603837/288943.060867)\n",
    "print(7033.283064/88103.127418)"
   ]
  },
  {
   "cell_type": "markdown",
   "metadata": {},
   "source": [
    "Можемо побачити, що в середньому ios користувачі дають нам більше коштів, ніж android.\n",
    "Також можемо побачити, що найбільше коштів ідуть від iap.\n",
    "Далі в ios - sub, а потім ad.\n",
    "А в android навпаки ad, а потім sub."
   ]
  },
  {
   "cell_type": "code",
   "execution_count": null,
   "metadata": {},
   "outputs": [],
   "source": [
    "df.pivot_table()"
   ]
  },
  {
   "cell_type": "code",
   "execution_count": 3,
   "metadata": {},
   "outputs": [],
   "source": [
    "path = '/home/dfm4ik/Documents/Scripts/python_folder/iasa_data_camp2022/tree1.txt'\n",
    "f = open(path,'r')\n",
    "stri = f.read()\n",
    "f.close()"
   ]
  },
  {
   "cell_type": "markdown",
   "metadata": {},
   "source": [
    "## Decision Tree"
   ]
  },
  {
   "cell_type": "code",
   "execution_count": 41,
   "metadata": {},
   "outputs": [
    {
     "name": "stdout",
     "output_type": "stream",
     "text": [
      "categorical_columns: ['media_source', 'platform']\n",
      "numerical_columns: ['total_sessions_day0', 'total_sessions_day1', 'total_sessions_day3', 'total_sessions_day7', 'chapters_finished_day0', 'chapters_finished_day1', 'chapters_finished_day3', 'chapters_finished_day7', 'chapters_opened_day0', 'chapters_opened_day1', 'chapters_opened_day3', 'chapters_opened_day7', 'chapters_closed_day0', 'chapters_closed_day1', 'chapters_closed_day3', 'chapters_closed_day7', 'diamonds_received_day0', 'diamonds_received_day1', 'diamonds_received_day3', 'diamonds_received_day7', 'diamonds_spent_day0', 'diamonds_spent_day1', 'diamonds_spent_day3', 'diamonds_spent_day7', 'tickets_spent_day0', 'tickets_spent_day1', 'tickets_spent_day3', 'tickets_spent_day7', 'retained_day1', 'retained_day3', 'retained_day7', 'chapters_finished_session1', 'chapters_finished_session3', 'chapters_finished_session9', 'chapters_opened_session1', 'chapters_opened_session3', 'chapters_opened_session9', 'chapters_closed_session1', 'chapters_closed_session3', 'chapters_closed_session9', 'diamonds_spent_session1', 'diamonds_spent_session3', 'diamonds_spent_session9', 'tickets_spent_session1', 'tickets_spent_session3', 'tickets_spent_session9', 'app_sub_ltv_day0', 'app_sub_ltv_day1', 'app_sub_ltv_day3', 'app_iap_ltv_day0', 'app_iap_ltv_day1', 'app_iap_ltv_day3', 'ad_ltv_day0', 'ad_ltv_day1', 'ad_ltv_day3']\n"
     ]
    }
   ],
   "source": [
    "dont_need_cols = ['country_code','target_sub_ltv_day30', 'target_iap_ltv_day30', 'target_ad_ltv_day30',\n",
    "       'target_full_ltv_day30','install_date']\n",
    "need_cols = []\n",
    "for i in df.columns:\n",
    "    if i not in dont_need_cols:\n",
    "        need_cols.append(i)\n",
    "\n",
    "X = df[need_cols]\n",
    "y = df[['target_sub_ltv_day30', 'target_iap_ltv_day30', 'target_ad_ltv_day30',\n",
    "       'target_full_ltv_day30']]\n",
    "\n",
    "# fill missing data\n",
    "\n",
    "# choose categorical and continuous features from data\n",
    "\n",
    "categorical_columns = [\n",
    "    c for c in X.columns if X[c].dtype.name == \"object\"\n",
    "]\n",
    "numerical_columns = [\n",
    "    c for c in X.columns if X[c].dtype.name != \"object\"\n",
    "]\n",
    "\n",
    "print(\"categorical_columns:\", categorical_columns)\n",
    "print(\"numerical_columns:\", numerical_columns)\n",
    "\n",
    "for c in categorical_columns:\n",
    "    X[c].fillna(X[c].mode()[0], inplace=True)\n",
    "    X[c].fillna(X[c].mode()[0], inplace=True)\n",
    "\n",
    "for c in numerical_columns:\n",
    "    X[c].fillna(X[c].median(), inplace=True)\n",
    "    X[c].fillna(X[c].median(), inplace=True)\n",
    "\n",
    "X = pd.concat(\n",
    "    [X[numerical_columns], pd.get_dummies(X[categorical_columns])],\n",
    "    axis=1,\n",
    ")\n",
    "\n",
    "from sklearn.model_selection import train_test_split\n",
    "X_train, X_test , y_train, y_test = train_test_split(X,y,random_state = 17,test_size = 0.3)\n",
    "\n"
   ]
  },
  {
   "cell_type": "code",
   "execution_count": 8,
   "metadata": {},
   "outputs": [
    {
     "name": "stdout",
     "output_type": "stream",
     "text": [
      "CPU times: user 1min 26s, sys: 4.88 s, total: 1min 31s\n",
      "Wall time: 1min 32s\n"
     ]
    },
    {
     "data": {
      "text/html": [
       "<style>#sk-container-id-1 {color: black;background-color: white;}#sk-container-id-1 pre{padding: 0;}#sk-container-id-1 div.sk-toggleable {background-color: white;}#sk-container-id-1 label.sk-toggleable__label {cursor: pointer;display: block;width: 100%;margin-bottom: 0;padding: 0.3em;box-sizing: border-box;text-align: center;}#sk-container-id-1 label.sk-toggleable__label-arrow:before {content: \"▸\";float: left;margin-right: 0.25em;color: #696969;}#sk-container-id-1 label.sk-toggleable__label-arrow:hover:before {color: black;}#sk-container-id-1 div.sk-estimator:hover label.sk-toggleable__label-arrow:before {color: black;}#sk-container-id-1 div.sk-toggleable__content {max-height: 0;max-width: 0;overflow: hidden;text-align: left;background-color: #f0f8ff;}#sk-container-id-1 div.sk-toggleable__content pre {margin: 0.2em;color: black;border-radius: 0.25em;background-color: #f0f8ff;}#sk-container-id-1 input.sk-toggleable__control:checked~div.sk-toggleable__content {max-height: 200px;max-width: 100%;overflow: auto;}#sk-container-id-1 input.sk-toggleable__control:checked~label.sk-toggleable__label-arrow:before {content: \"▾\";}#sk-container-id-1 div.sk-estimator input.sk-toggleable__control:checked~label.sk-toggleable__label {background-color: #d4ebff;}#sk-container-id-1 div.sk-label input.sk-toggleable__control:checked~label.sk-toggleable__label {background-color: #d4ebff;}#sk-container-id-1 input.sk-hidden--visually {border: 0;clip: rect(1px 1px 1px 1px);clip: rect(1px, 1px, 1px, 1px);height: 1px;margin: -1px;overflow: hidden;padding: 0;position: absolute;width: 1px;}#sk-container-id-1 div.sk-estimator {font-family: monospace;background-color: #f0f8ff;border: 1px dotted black;border-radius: 0.25em;box-sizing: border-box;margin-bottom: 0.5em;}#sk-container-id-1 div.sk-estimator:hover {background-color: #d4ebff;}#sk-container-id-1 div.sk-parallel-item::after {content: \"\";width: 100%;border-bottom: 1px solid gray;flex-grow: 1;}#sk-container-id-1 div.sk-label:hover label.sk-toggleable__label {background-color: #d4ebff;}#sk-container-id-1 div.sk-serial::before {content: \"\";position: absolute;border-left: 1px solid gray;box-sizing: border-box;top: 0;bottom: 0;left: 50%;z-index: 0;}#sk-container-id-1 div.sk-serial {display: flex;flex-direction: column;align-items: center;background-color: white;padding-right: 0.2em;padding-left: 0.2em;position: relative;}#sk-container-id-1 div.sk-item {position: relative;z-index: 1;}#sk-container-id-1 div.sk-parallel {display: flex;align-items: stretch;justify-content: center;background-color: white;position: relative;}#sk-container-id-1 div.sk-item::before, #sk-container-id-1 div.sk-parallel-item::before {content: \"\";position: absolute;border-left: 1px solid gray;box-sizing: border-box;top: 0;bottom: 0;left: 50%;z-index: -1;}#sk-container-id-1 div.sk-parallel-item {display: flex;flex-direction: column;z-index: 1;position: relative;background-color: white;}#sk-container-id-1 div.sk-parallel-item:first-child::after {align-self: flex-end;width: 50%;}#sk-container-id-1 div.sk-parallel-item:last-child::after {align-self: flex-start;width: 50%;}#sk-container-id-1 div.sk-parallel-item:only-child::after {width: 0;}#sk-container-id-1 div.sk-dashed-wrapped {border: 1px dashed gray;margin: 0 0.4em 0.5em 0.4em;box-sizing: border-box;padding-bottom: 0.4em;background-color: white;}#sk-container-id-1 div.sk-label label {font-family: monospace;font-weight: bold;display: inline-block;line-height: 1.2em;}#sk-container-id-1 div.sk-label-container {text-align: center;}#sk-container-id-1 div.sk-container {/* jupyter's `normalize.less` sets `[hidden] { display: none; }` but bootstrap.min.css set `[hidden] { display: none !important; }` so we also need the `!important` here to be able to override the default hidden behavior on the sphinx rendered scikit-learn.org. See: https://github.com/scikit-learn/scikit-learn/issues/21755 */display: inline-block !important;position: relative;}#sk-container-id-1 div.sk-text-repr-fallback {display: none;}</style><div id=\"sk-container-id-1\" class=\"sk-top-container\"><div class=\"sk-text-repr-fallback\"><pre>GridSearchCV(cv=5, estimator=DecisionTreeRegressor(random_state=17),\n",
       "             param_grid={&#x27;max_depth&#x27;: [7]})</pre><b>In a Jupyter environment, please rerun this cell to show the HTML representation or trust the notebook. <br />On GitHub, the HTML representation is unable to render, please try loading this page with nbviewer.org.</b></div><div class=\"sk-container\" hidden><div class=\"sk-item sk-dashed-wrapped\"><div class=\"sk-label-container\"><div class=\"sk-label sk-toggleable\"><input class=\"sk-toggleable__control sk-hidden--visually\" id=\"sk-estimator-id-1\" type=\"checkbox\" ><label for=\"sk-estimator-id-1\" class=\"sk-toggleable__label sk-toggleable__label-arrow\">GridSearchCV</label><div class=\"sk-toggleable__content\"><pre>GridSearchCV(cv=5, estimator=DecisionTreeRegressor(random_state=17),\n",
       "             param_grid={&#x27;max_depth&#x27;: [7]})</pre></div></div></div><div class=\"sk-parallel\"><div class=\"sk-parallel-item\"><div class=\"sk-item\"><div class=\"sk-label-container\"><div class=\"sk-label sk-toggleable\"><input class=\"sk-toggleable__control sk-hidden--visually\" id=\"sk-estimator-id-2\" type=\"checkbox\" ><label for=\"sk-estimator-id-2\" class=\"sk-toggleable__label sk-toggleable__label-arrow\">estimator: DecisionTreeRegressor</label><div class=\"sk-toggleable__content\"><pre>DecisionTreeRegressor(random_state=17)</pre></div></div></div><div class=\"sk-serial\"><div class=\"sk-item\"><div class=\"sk-estimator sk-toggleable\"><input class=\"sk-toggleable__control sk-hidden--visually\" id=\"sk-estimator-id-3\" type=\"checkbox\" ><label for=\"sk-estimator-id-3\" class=\"sk-toggleable__label sk-toggleable__label-arrow\">DecisionTreeRegressor</label><div class=\"sk-toggleable__content\"><pre>DecisionTreeRegressor(random_state=17)</pre></div></div></div></div></div></div></div></div></div></div>"
      ],
      "text/plain": [
       "GridSearchCV(cv=5, estimator=DecisionTreeRegressor(random_state=17),\n",
       "             param_grid={'max_depth': [7]})"
      ]
     },
     "execution_count": 8,
     "metadata": {},
     "output_type": "execute_result"
    }
   ],
   "source": [
    "%%time\n",
    "tree_params = {\"max_depth\": [7]}\n",
    "from sklearn.tree import DecisionTreeRegressor\n",
    "from sklearn.ensemble import RandomForestClassifier\n",
    "from sklearn.metrics import accuracy_score\n",
    "from sklearn.model_selection import GridSearchCV, cross_val_score\n",
    "from sklearn.preprocessing import LabelEncoder\n",
    "from sklearn.tree import DecisionTreeClassifier, plot_tree\n",
    "locally_best_tree = GridSearchCV(\n",
    "    DecisionTreeRegressor(random_state=17), tree_params, cv=5\n",
    ")\n",
    "\n",
    "locally_best_tree.fit(X_train, y_train['target_full_ltv_day30'])\n"
   ]
  },
  {
   "cell_type": "code",
   "execution_count": 10,
   "metadata": {},
   "outputs": [],
   "source": [
    "biba = locally_best_tree.best_estimator_"
   ]
  },
  {
   "cell_type": "code",
   "execution_count": 13,
   "metadata": {},
   "outputs": [],
   "source": [
    "# show decision tree in png\n",
    "\n",
    "import pydotplus  # pip install pydotplus\n",
    "from sklearn.tree import export_graphviz\n",
    "\n",
    "\n",
    "def tree_graph_to_png(tree, feature_names, png_file_to_save):\n",
    "    tree_str = export_graphviz(\n",
    "        tree, feature_names=feature_names, filled=True, out_file=None\n",
    "    )\n",
    "    graph = pydotplus.graph_from_dot_data(tree_str)\n",
    "    graph.write_png(png_file_to_save)\n",
    "tree_graph_to_png(\n",
    "    tree=biba,\n",
    "    feature_names=X.columns,\n",
    "    png_file_to_save=\"topic3_decision_tree1.png\",\n",
    ")\n",
    "#show decision tree in png\n",
    "tree_str = export_graphviz(\n",
    "        biba, feature_names=X.columns, filled=True, out_file=None\n",
    "    )\n",
    "f= open('target_value_best_tree.txt','w')\n",
    "f.write(tree_str)\n",
    "f.close()"
   ]
  },
  {
   "cell_type": "code",
   "execution_count": 33,
   "metadata": {},
   "outputs": [],
   "source": [
    "y_pred = biba.predict(X_test)"
   ]
  },
  {
   "cell_type": "markdown",
   "metadata": {},
   "source": [
    "# Decision Tree metrics"
   ]
  },
  {
   "cell_type": "code",
   "execution_count": 24,
   "metadata": {},
   "outputs": [
    {
     "data": {
      "text/plain": [
       "1.2735943642034495"
      ]
     },
     "execution_count": 24,
     "metadata": {},
     "output_type": "execute_result"
    }
   ],
   "source": [
    "import math\n",
    "from sklearn.metrics import mean_squared_error\n",
    "MSE = mean_squared_error(y_test, y_pred)\n",
    " \n",
    "RMSE = math.sqrt(MSE)\n",
    "RMSE"
   ]
  },
  {
   "cell_type": "code",
   "execution_count": 31,
   "metadata": {},
   "outputs": [
    {
     "name": "stdout",
     "output_type": "stream",
     "text": [
      "inf\n"
     ]
    }
   ],
   "source": [
    "def MAPE(Y_actual,Y_Predicted):\n",
    "    Y_actual, Y_Predicted = np.array(Y_actual), np.array(Y_Predicted)\n",
    "    mape = np.mean(np.abs(Y_actual - Y_Predicted)/Y_actual)*100\n",
    "    return mape\n",
    "print(MAPE(y_test, y_pred))"
   ]
  },
  {
   "cell_type": "code",
   "execution_count": 32,
   "metadata": {},
   "outputs": [
    {
     "data": {
      "text/plain": [
       "0.11021835745130928"
      ]
     },
     "execution_count": 32,
     "metadata": {},
     "output_type": "execute_result"
    }
   ],
   "source": [
    "def mae(y_true, predictions):\n",
    "    y_true, predictions = np.array(y_true), np.array(predictions)\n",
    "    return np.mean(np.abs(y_true - predictions))\n",
    "mae(y_test, y_pred)"
   ]
  },
  {
   "cell_type": "code",
   "execution_count": 22,
   "metadata": {},
   "outputs": [
    {
     "data": {
      "text/plain": [
       "0.00015547697459314342"
      ]
     },
     "execution_count": 22,
     "metadata": {},
     "output_type": "execute_result"
    }
   ],
   "source": [
    "np.percentile(df['target_full_ltv_day30'],76.7)"
   ]
  },
  {
   "cell_type": "code",
   "execution_count": 6,
   "metadata": {},
   "outputs": [
    {
     "data": {
      "text/html": [
       "<div>\n",
       "<style scoped>\n",
       "    .dataframe tbody tr th:only-of-type {\n",
       "        vertical-align: middle;\n",
       "    }\n",
       "\n",
       "    .dataframe tbody tr th {\n",
       "        vertical-align: top;\n",
       "    }\n",
       "\n",
       "    .dataframe thead th {\n",
       "        text-align: right;\n",
       "    }\n",
       "</style>\n",
       "<table border=\"1\" class=\"dataframe\">\n",
       "  <thead>\n",
       "    <tr style=\"text-align: right;\">\n",
       "      <th></th>\n",
       "      <th>target_sub_ltv_day30</th>\n",
       "      <th>target_iap_ltv_day30</th>\n",
       "      <th>target_ad_ltv_day30</th>\n",
       "      <th>target_full_ltv_day30</th>\n",
       "    </tr>\n",
       "  </thead>\n",
       "  <tbody>\n",
       "    <tr>\n",
       "      <th>count</th>\n",
       "      <td>1.467832e+06</td>\n",
       "      <td>1.467832e+06</td>\n",
       "      <td>1.467832e+06</td>\n",
       "      <td>1.467832e+06</td>\n",
       "    </tr>\n",
       "    <tr>\n",
       "      <th>mean</th>\n",
       "      <td>2.203037e-02</td>\n",
       "      <td>2.139268e-01</td>\n",
       "      <td>2.091572e-02</td>\n",
       "      <td>2.568728e-01</td>\n",
       "    </tr>\n",
       "    <tr>\n",
       "      <th>std</th>\n",
       "      <td>3.088758e-01</td>\n",
       "      <td>2.097916e+00</td>\n",
       "      <td>1.601929e-01</td>\n",
       "      <td>2.274466e+00</td>\n",
       "    </tr>\n",
       "    <tr>\n",
       "      <th>min</th>\n",
       "      <td>-2.829604e+00</td>\n",
       "      <td>0.000000e+00</td>\n",
       "      <td>0.000000e+00</td>\n",
       "      <td>-2.777195e+00</td>\n",
       "    </tr>\n",
       "    <tr>\n",
       "      <th>25%</th>\n",
       "      <td>0.000000e+00</td>\n",
       "      <td>0.000000e+00</td>\n",
       "      <td>0.000000e+00</td>\n",
       "      <td>0.000000e+00</td>\n",
       "    </tr>\n",
       "    <tr>\n",
       "      <th>50%</th>\n",
       "      <td>0.000000e+00</td>\n",
       "      <td>0.000000e+00</td>\n",
       "      <td>0.000000e+00</td>\n",
       "      <td>0.000000e+00</td>\n",
       "    </tr>\n",
       "    <tr>\n",
       "      <th>75%</th>\n",
       "      <td>0.000000e+00</td>\n",
       "      <td>0.000000e+00</td>\n",
       "      <td>0.000000e+00</td>\n",
       "      <td>0.000000e+00</td>\n",
       "    </tr>\n",
       "    <tr>\n",
       "      <th>max</th>\n",
       "      <td>4.545741e+01</td>\n",
       "      <td>2.687878e+02</td>\n",
       "      <td>3.393084e+01</td>\n",
       "      <td>2.720042e+02</td>\n",
       "    </tr>\n",
       "  </tbody>\n",
       "</table>\n",
       "</div>"
      ],
      "text/plain": [
       "       target_sub_ltv_day30  target_iap_ltv_day30  target_ad_ltv_day30  \\\n",
       "count          1.467832e+06          1.467832e+06         1.467832e+06   \n",
       "mean           2.203037e-02          2.139268e-01         2.091572e-02   \n",
       "std            3.088758e-01          2.097916e+00         1.601929e-01   \n",
       "min           -2.829604e+00          0.000000e+00         0.000000e+00   \n",
       "25%            0.000000e+00          0.000000e+00         0.000000e+00   \n",
       "50%            0.000000e+00          0.000000e+00         0.000000e+00   \n",
       "75%            0.000000e+00          0.000000e+00         0.000000e+00   \n",
       "max            4.545741e+01          2.687878e+02         3.393084e+01   \n",
       "\n",
       "       target_full_ltv_day30  \n",
       "count           1.467832e+06  \n",
       "mean            2.568728e-01  \n",
       "std             2.274466e+00  \n",
       "min            -2.777195e+00  \n",
       "25%             0.000000e+00  \n",
       "50%             0.000000e+00  \n",
       "75%             0.000000e+00  \n",
       "max             2.720042e+02  "
      ]
     },
     "execution_count": 6,
     "metadata": {},
     "output_type": "execute_result"
    }
   ],
   "source": [
    "df[dont_need_cols].describe()"
   ]
  },
  {
   "cell_type": "markdown",
   "metadata": {},
   "source": [
    "# Can we get lesser result"
   ]
  },
  {
   "cell_type": "code",
   "execution_count": 12,
   "metadata": {},
   "outputs": [],
   "source": [
    "unique, counts = np.unique(y_pred, return_counts=True)"
   ]
  },
  {
   "cell_type": "code",
   "execution_count": 25,
   "metadata": {},
   "outputs": [
    {
     "data": {
      "text/plain": [
       "0.012328567731347625"
      ]
     },
     "execution_count": 25,
     "metadata": {},
     "output_type": "execute_result"
    }
   ],
   "source": [
    "#pd.concat([pd.Series(unique),pd.Series(counts)],axis =1 )\n",
    "unique.min()"
   ]
  },
  {
   "cell_type": "code",
   "execution_count": null,
   "metadata": {},
   "outputs": [],
   "source": []
  },
  {
   "cell_type": "markdown",
   "metadata": {},
   "source": [
    "Ми маємо дуже багато зароблених коштів 0лів. А в дереві рішень у нас найменше значення саме "
   ]
  },
  {
   "cell_type": "code",
   "execution_count": 30,
   "metadata": {},
   "outputs": [
    {
     "name": "stdout",
     "output_type": "stream",
     "text": [
      "before:  0.7156120395842329 0.11021835745130928 1.2735943642034495\n"
     ]
    }
   ],
   "source": [
    "from sklearn.metrics import r2_score, mean_absolute_error, mean_squared_error\n",
    "\n",
    "print('before: '\\\n",
    "      ,r2_score(y_test, y_pred)\\\n",
    "      , mean_absolute_error(y_test, y_pred)\\\n",
    "      , np.sqrt(mean_squared_error(y_test, y_pred)))"
   ]
  },
  {
   "cell_type": "code",
   "execution_count": 35,
   "metadata": {},
   "outputs": [],
   "source": []
  },
  {
   "cell_type": "code",
   "execution_count": 36,
   "metadata": {},
   "outputs": [
    {
     "data": {
      "text/plain": [
       "0.0"
      ]
     },
     "execution_count": 36,
     "metadata": {},
     "output_type": "execute_result"
    }
   ],
   "source": [
    "y_pred2 =y_pred.copy()\n",
    "value = y_pred2[0]\n",
    "for i in range(len(y_pred2)):\n",
    "    if y_pred2[i]==value:\n",
    "        y_pred2[i]=0\n",
    "unique, counts = np.unique(y_pred2, return_counts=True)\n",
    "unique.min()\n"
   ]
  },
  {
   "cell_type": "code",
   "execution_count": 38,
   "metadata": {},
   "outputs": [
    {
     "name": "stdout",
     "output_type": "stream",
     "text": [
      "before:  0.7155891063578942 0.10144459509736846 1.2736457148987614\n"
     ]
    }
   ],
   "source": [
    "print('after: '\\\n",
    "      ,r2_score(y_test, y_pred2)\\\n",
    "      , mean_absolute_error(y_test, y_pred2)\\\n",
    "      , np.sqrt(mean_squared_error(y_test, y_pred2)))"
   ]
  },
  {
   "cell_type": "markdown",
   "metadata": {},
   "source": [
    "# Regression"
   ]
  },
  {
   "cell_type": "code",
   "execution_count": null,
   "metadata": {},
   "outputs": [],
   "source": []
  },
  {
   "cell_type": "code",
   "execution_count": 21,
   "metadata": {},
   "outputs": [
    {
     "ename": "SyntaxError",
     "evalue": "invalid syntax (1368600713.py, line 3)",
     "output_type": "error",
     "traceback": [
      "\u001b[0;36m  Cell \u001b[0;32mIn [21], line 3\u001b[0;36m\u001b[0m\n\u001b[0;31m    y_test_sub =\u001b[0m\n\u001b[0m                 ^\u001b[0m\n\u001b[0;31mSyntaxError\u001b[0m\u001b[0;31m:\u001b[0m invalid syntax\n"
     ]
    }
   ],
   "source": [
    "X_test_sub = X_test['app_sub_ltv_day0', 'app_sub_ltv_day1',\n",
    "       'app_sub_ltv_day3']\n",
    "y_test_sub = "
   ]
  },
  {
   "cell_type": "code",
   "execution_count": 22,
   "metadata": {},
   "outputs": [
    {
     "data": {
      "text/plain": [
       "Index(['total_sessions_day0', 'total_sessions_day1', 'total_sessions_day3',\n",
       "       'total_sessions_day7', 'chapters_finished_day0',\n",
       "       'chapters_finished_day1', 'chapters_finished_day3',\n",
       "       'chapters_finished_day7', 'chapters_opened_day0',\n",
       "       'chapters_opened_day1', 'chapters_opened_day3', 'chapters_opened_day7',\n",
       "       'chapters_closed_day0', 'chapters_closed_day1', 'chapters_closed_day3',\n",
       "       'chapters_closed_day7', 'diamonds_received_day0',\n",
       "       'diamonds_received_day1', 'diamonds_received_day3',\n",
       "       'diamonds_received_day7', 'diamonds_spent_day0', 'diamonds_spent_day1',\n",
       "       'diamonds_spent_day3', 'diamonds_spent_day7', 'tickets_spent_day0',\n",
       "       'tickets_spent_day1', 'tickets_spent_day3', 'tickets_spent_day7',\n",
       "       'retained_day1', 'retained_day3', 'retained_day7',\n",
       "       'chapters_finished_session1', 'chapters_finished_session3',\n",
       "       'chapters_finished_session9', 'chapters_opened_session1',\n",
       "       'chapters_opened_session3', 'chapters_opened_session9',\n",
       "       'chapters_closed_session1', 'chapters_closed_session3',\n",
       "       'chapters_closed_session9', 'diamonds_spent_session1',\n",
       "       'diamonds_spent_session3', 'diamonds_spent_session9',\n",
       "       'tickets_spent_session1', 'tickets_spent_session3',\n",
       "       'tickets_spent_session9', 'app_sub_ltv_day0', 'app_sub_ltv_day1',\n",
       "       'app_sub_ltv_day3', 'app_iap_ltv_day0', 'app_iap_ltv_day1',\n",
       "       'app_iap_ltv_day3', 'ad_ltv_day0', 'ad_ltv_day1', 'ad_ltv_day3',\n",
       "       'media_source_SOURCE_0', 'media_source_SOURCE_1',\n",
       "       'media_source_SOURCE_10', 'media_source_SOURCE_11',\n",
       "       'media_source_SOURCE_12', 'media_source_SOURCE_13',\n",
       "       'media_source_SOURCE_14', 'media_source_SOURCE_15',\n",
       "       'media_source_SOURCE_16', 'media_source_SOURCE_17',\n",
       "       'media_source_SOURCE_18', 'media_source_SOURCE_19',\n",
       "       'media_source_SOURCE_2', 'media_source_SOURCE_20',\n",
       "       'media_source_SOURCE_21', 'media_source_SOURCE_22',\n",
       "       'media_source_SOURCE_23', 'media_source_SOURCE_3',\n",
       "       'media_source_SOURCE_4', 'media_source_SOURCE_5',\n",
       "       'media_source_SOURCE_6', 'media_source_SOURCE_7',\n",
       "       'media_source_SOURCE_8', 'media_source_SOURCE_9', 'platform_android',\n",
       "       'platform_ios'],\n",
       "      dtype='object')"
      ]
     },
     "execution_count": 22,
     "metadata": {},
     "output_type": "execute_result"
    }
   ],
   "source": [
    "X_test.columns"
   ]
  },
  {
   "cell_type": "code",
   "execution_count": null,
   "metadata": {},
   "outputs": [],
   "source": []
  }
 ],
 "metadata": {
  "kernelspec": {
   "display_name": "Python 3 (ipykernel)",
   "language": "python",
   "name": "python3"
  },
  "language_info": {
   "codemirror_mode": {
    "name": "ipython",
    "version": 3
   },
   "file_extension": ".py",
   "mimetype": "text/x-python",
   "name": "python",
   "nbconvert_exporter": "python",
   "pygments_lexer": "ipython3",
   "version": "3.10.4"
  }
 },
 "nbformat": 4,
 "nbformat_minor": 2
}
